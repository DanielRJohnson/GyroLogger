{
 "cells": [
  {
   "cell_type": "code",
   "execution_count": null,
   "metadata": {},
   "outputs": [],
   "source": [
    "import numpy as np\n",
    "import os\n",
    "import glob\n",
    "import pandas as pd"
   ]
  },
  {
   "cell_type": "code",
   "execution_count": null,
   "metadata": {},
   "outputs": [],
   "source": [
    "# import all from /raw_data/\n",
    "all_acc_csvs = glob.glob(os.getcwd() + \"/raw_data/accelerometer/*.csv\")\n",
    "all_gyro_csvs = glob.glob(os.getcwd() + \"/raw_data/gyroscope/*.csv\")\n",
    "\n",
    "sensor_df = pd.DataFrame()\n",
    "for acc_file, gyro_file in zip(all_acc_csvs, all_gyro_csvs):\n",
    "    acc_df = pd.read_csv(acc_file).loc[:, [\"Timestamp\", \"x\", \"y\", \"z\", \"payload\"]] \\\n",
    "        .rename(columns={\"x\": \"acc_x\", \"y\": \"acc_y\", \"z\": \"acc_z\"})\n",
    "\n",
    "    gyro_df = pd.read_csv(gyro_file).loc[:, [\"Timestamp\", \"x\", \"y\", \"z\", \"payload\"]] \\\n",
    "        .rename(columns={\"x\": \"gyro_x\", \"y\": \"gyro_y\", \"z\": \"gyro_z\"})\n",
    "\n",
    "    combined_df = pd.merge_asof(acc_df.sort_values(\"Timestamp\"), gyro_df.sort_values(\"Timestamp\"), on=\"Timestamp\", direction=\"nearest\") \\\n",
    "        .loc[:, [\"Timestamp\", \"acc_x\", \"acc_y\", \"acc_z\", \"gyro_x\", \"gyro_y\", \"gyro_z\", \"payload_x\"]] \\\n",
    "            .rename(columns={\"payload_x\": \"payload\"})\n",
    "\n",
    "    sensor_df = pd.concat([sensor_df, combined_df], axis=0)\n",
    "\n",
    "print(sensor_df.head())"
   ]
  }
 ],
 "metadata": {
  "language_info": {
   "name": "python"
  },
  "orig_nbformat": 4
 },
 "nbformat": 4,
 "nbformat_minor": 2
}
