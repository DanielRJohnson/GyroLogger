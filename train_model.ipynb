{
 "cells": [
  {
   "cell_type": "code",
   "execution_count": 1,
   "metadata": {},
   "outputs": [],
   "source": [
    "import numpy as np\n",
    "from sklearn.preprocessing import StandardScaler\n",
    "from sklearn.model_selection import train_test_split\n",
    "import matplotlib.pyplot as plt\n",
    "import os\n",
    "import keras"
   ]
  },
  {
   "cell_type": "code",
   "execution_count": 2,
   "metadata": {},
   "outputs": [],
   "source": [
    "# import all from /processed data/\n",
    "X = np.load(os.getcwd() + '/processed_data/proc_X.npy', allow_pickle=True)\n",
    "y = np.load(os.getcwd() + '/processed_data/proc_y.npy', allow_pickle=True)"
   ]
  },
  {
   "cell_type": "code",
   "execution_count": 3,
   "metadata": {},
   "outputs": [],
   "source": [
    "# transform the series data\n",
    "scaler = StandardScaler()\n",
    "for feature_idx in range(X.shape[1]):\n",
    "    X[:, feature_idx] = scaler.fit_transform(X[:, feature_idx])"
   ]
  },
  {
   "cell_type": "code",
   "execution_count": 4,
   "metadata": {},
   "outputs": [
    {
     "data": {
      "text/plain": [
       "<Figure size 432x288 with 0 Axes>"
      ]
     },
     "metadata": {},
     "output_type": "display_data"
    }
   ],
   "source": [
    "# plot the distribution of the data\n",
    "plt.hist(y, bins=100)\n",
    "plt.title('Distribution of target character')\n",
    "plt.xlabel('Target character')\n",
    "plt.ylabel('Frequency')\n",
    "plt.savefig(os.getcwd() + '/plots/target_distribution.png', facecolor='w', edgecolor='w',)\n",
    "# plt.show()\n",
    "plt.clf()\n",
    "\n",
    "titles = [\"Distribution of \" + sensor for sensor in [\"acc_x\", \"acc_y\", \"acc_z\", \"gyro_x\", \"gyro_y\", \"gyro_z\"]]\n",
    "for feature_idx, title in zip(range(X.shape[2]), titles):\n",
    "    plt.hist(X[:, feature_idx].reshape(-1,1), bins=100)\n",
    "    plt.title(title)\n",
    "    plt.xlabel('Sensor Value')\n",
    "    plt.ylabel('Frequency')\n",
    "    plt.savefig(os.getcwd() + '/plots/' + title + '.png', facecolor='w', edgecolor='w')\n",
    "    # plt.show()\n",
    "    plt.clf()"
   ]
  },
  {
   "cell_type": "code",
   "execution_count": 5,
   "metadata": {},
   "outputs": [],
   "source": [
    "# split into train and test\n",
    "X_train, X_test, y_train, y_test = train_test_split(X, y, test_size=0.5, random_state=42)"
   ]
  },
  {
   "cell_type": "code",
   "execution_count": 6,
   "metadata": {},
   "outputs": [],
   "source": [
    "# create the LSTM model"
   ]
  },
  {
   "cell_type": "code",
   "execution_count": 7,
   "metadata": {},
   "outputs": [],
   "source": [
    "# train model"
   ]
  },
  {
   "cell_type": "code",
   "execution_count": 8,
   "metadata": {},
   "outputs": [],
   "source": [
    "# save model to /models/"
   ]
  }
 ],
 "metadata": {
  "interpreter": {
   "hash": "08eac26dc1f80337b7d87e94e7159a5bad95c2e85f47efef91c61359b3afbfe9"
  },
  "kernelspec": {
   "display_name": "Python 3.9.6 64-bit ('ml': conda)",
   "language": "python",
   "name": "python3"
  },
  "language_info": {
   "codemirror_mode": {
    "name": "ipython",
    "version": 3
   },
   "file_extension": ".py",
   "mimetype": "text/x-python",
   "name": "python",
   "nbconvert_exporter": "python",
   "pygments_lexer": "ipython3",
   "version": "3.9.6"
  },
  "orig_nbformat": 4
 },
 "nbformat": 4,
 "nbformat_minor": 2
}
