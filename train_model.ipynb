{
 "cells": [
  {
   "cell_type": "code",
   "execution_count": 1,
   "metadata": {},
   "outputs": [
    {
     "name": "stdout",
     "output_type": "stream",
     "text": [
      "Init Plugin\n",
      "Init Graph Optimizer\n",
      "Init Kernel\n"
     ]
    }
   ],
   "source": [
    "import numpy as np\n",
    "from sklearn.model_selection import KFold\n",
    "from sklearn.preprocessing import LabelEncoder\n",
    "import matplotlib.pyplot as plt\n",
    "import os\n",
    "import tensorflow as tf\n",
    "from tensorflow.keras.layers import InputLayer, Dense, LSTM"
   ]
  },
  {
   "cell_type": "code",
   "execution_count": 2,
   "metadata": {},
   "outputs": [],
   "source": [
    "# import all from /processed data/\n",
    "X = np.load(os.getcwd() + '/processed_data/proc_X.npy', allow_pickle=True)\n",
    "y = np.load(os.getcwd() + '/processed_data/proc_y.npy', allow_pickle=True)\n",
    "y = LabelEncoder().fit_transform(y)"
   ]
  },
  {
   "cell_type": "code",
   "execution_count": 3,
   "metadata": {},
   "outputs": [],
   "source": [
    "def create_rnn_model():\n",
    "    rnn_model = tf.keras.Sequential()\n",
    "    rnn_model.add(InputLayer(input_shape=(X.shape[1], X.shape[2])))\n",
    "    rnn_model.add(LSTM(units=64, activation='relu'))\n",
    "    rnn_model.add(Dense(units=32, activation='relu'))\n",
    "    #rnn_model.add(LSTM(units=32, activation='relu', dropout=0.25))\n",
    "    rnn_model.add(Dense(len(np.unique(y)), activation='softmax'))\n",
    "    rnn_model.compile(optimizer='adam', loss='sparse_categorical_crossentropy', metrics=['accuracy'])\n",
    "    return rnn_model"
   ]
  },
  {
   "cell_type": "code",
   "execution_count": 4,
   "metadata": {},
   "outputs": [
    {
     "name": "stdout",
     "output_type": "stream",
     "text": [
      "Metal device set to: Apple M1\n",
      "\n",
      "systemMemory: 8.00 GB\n",
      "maxCacheSize: 2.67 GB\n",
      "\n",
      "WARNING:tensorflow:Layer lstm will not use cuDNN kernels since it doesn't meet the criteria. It will use a generic GPU kernel as fallback when running on GPU.\n"
     ]
    },
    {
     "name": "stderr",
     "output_type": "stream",
     "text": [
      "2021-12-01 14:30:39.774862: I tensorflow/core/common_runtime/pluggable_device/pluggable_device_factory.cc:305] Could not identify NUMA node of platform GPU ID 0, defaulting to 0. Your kernel may not have been built with NUMA support.\n",
      "2021-12-01 14:30:39.774948: I tensorflow/core/common_runtime/pluggable_device/pluggable_device_factory.cc:271] Created TensorFlow device (/job:localhost/replica:0/task:0/device:GPU:0 with 0 MB memory) -> physical PluggableDevice (device: 0, name: METAL, pci bus id: <undefined>)\n"
     ]
    }
   ],
   "source": [
    "model = create_rnn_model()\n",
    "best_model = None"
   ]
  },
  {
   "cell_type": "code",
   "execution_count": 5,
   "metadata": {},
   "outputs": [
    {
     "name": "stderr",
     "output_type": "stream",
     "text": [
      "2021-12-01 14:30:40.153144: I tensorflow/compiler/mlir/mlir_graph_optimization_pass.cc:176] None of the MLIR Optimization Passes are enabled (registered 2)\n",
      "2021-12-01 14:30:40.153546: W tensorflow/core/platform/profile_utils/cpu_utils.cc:128] Failed to get CPU frequency: 0 Hz\n"
     ]
    },
    {
     "name": "stdout",
     "output_type": "stream",
     "text": [
      "Epoch 1/20\n"
     ]
    },
    {
     "name": "stderr",
     "output_type": "stream",
     "text": [
      "2021-12-01 14:30:40.426022: I tensorflow/core/grappler/optimizers/custom_graph_optimizer_registry.cc:112] Plugin optimizer for device_type GPU is enabled.\n"
     ]
    },
    {
     "name": "stdout",
     "output_type": "stream",
     "text": [
      "75/75 [==============================] - ETA: 0s - loss: 3.0232 - accuracy: 0.2270"
     ]
    },
    {
     "name": "stderr",
     "output_type": "stream",
     "text": [
      "2021-12-01 14:31:06.538871: I tensorflow/core/grappler/optimizers/custom_graph_optimizer_registry.cc:112] Plugin optimizer for device_type GPU is enabled.\n"
     ]
    },
    {
     "name": "stdout",
     "output_type": "stream",
     "text": [
      "75/75 [==============================] - 28s 360ms/step - loss: 3.0232 - accuracy: 0.2270 - val_loss: 2.7505 - val_accuracy: 0.3044\n",
      "Epoch 2/20\n",
      "75/75 [==============================] - 27s 366ms/step - loss: 2.2066 - accuracy: 0.4380 - val_loss: 2.3133 - val_accuracy: 0.4016\n",
      "Epoch 3/20\n",
      "75/75 [==============================] - 28s 370ms/step - loss: 1.7189 - accuracy: 0.5457 - val_loss: 1.9869 - val_accuracy: 0.5121\n",
      "Epoch 4/20\n",
      "75/75 [==============================] - 27s 364ms/step - loss: 1.5564 - accuracy: 0.5632 - val_loss: 1.9287 - val_accuracy: 0.5263\n",
      "Epoch 5/20\n",
      "75/75 [==============================] - 27s 356ms/step - loss: 1.5474 - accuracy: 0.5707 - val_loss: 1.9569 - val_accuracy: 0.4967\n",
      "Epoch 6/20\n",
      "75/75 [==============================] - 27s 355ms/step - loss: 1.4750 - accuracy: 0.5811 - val_loss: 1.9002 - val_accuracy: 0.5254\n",
      "Epoch 7/20\n",
      "75/75 [==============================] - 27s 360ms/step - loss: 1.4406 - accuracy: 0.5903 - val_loss: 1.9507 - val_accuracy: 0.5154\n",
      "Epoch 8/20\n",
      "75/75 [==============================] - 27s 356ms/step - loss: 1.4225 - accuracy: 0.5920 - val_loss: 1.9265 - val_accuracy: 0.5175\n",
      "Epoch 9/20\n",
      "75/75 [==============================] - 27s 362ms/step - loss: 1.4021 - accuracy: 0.5972 - val_loss: 1.9067 - val_accuracy: 0.5138\n",
      "Epoch 10/20\n",
      "75/75 [==============================] - 27s 358ms/step - loss: 1.3879 - accuracy: 0.5974 - val_loss: 1.9590 - val_accuracy: 0.5058\n",
      "Epoch 11/20\n",
      "75/75 [==============================] - 27s 356ms/step - loss: 1.3781 - accuracy: 0.6028 - val_loss: 1.9224 - val_accuracy: 0.5396\n",
      "Epoch 12/20\n",
      "75/75 [==============================] - 27s 357ms/step - loss: 1.3815 - accuracy: 0.6014 - val_loss: 1.8817 - val_accuracy: 0.5313\n",
      "Epoch 13/20\n",
      "75/75 [==============================] - 27s 356ms/step - loss: 1.3583 - accuracy: 0.6037 - val_loss: 1.8560 - val_accuracy: 0.5342\n",
      "Epoch 14/20\n",
      "75/75 [==============================] - 27s 356ms/step - loss: 1.3513 - accuracy: 0.6066 - val_loss: 1.8754 - val_accuracy: 0.5242\n",
      "Epoch 15/20\n",
      "75/75 [==============================] - 27s 357ms/step - loss: 1.3577 - accuracy: 0.6078 - val_loss: 1.9811 - val_accuracy: 0.5058\n",
      "Epoch 16/20\n",
      "75/75 [==============================] - 27s 357ms/step - loss: 1.3351 - accuracy: 0.6089 - val_loss: 1.8959 - val_accuracy: 0.5346\n",
      "Epoch 17/20\n",
      "75/75 [==============================] - 27s 357ms/step - loss: 1.3314 - accuracy: 0.6078 - val_loss: 1.9148 - val_accuracy: 0.5288\n",
      "Epoch 18/20\n",
      "75/75 [==============================] - 27s 356ms/step - loss: 1.3528 - accuracy: 0.6093 - val_loss: 2.1071 - val_accuracy: 0.5250\n",
      "Epoch 19/20\n",
      "75/75 [==============================] - 27s 357ms/step - loss: 1.3233 - accuracy: 0.6133 - val_loss: 2.0264 - val_accuracy: 0.5025\n",
      "Epoch 20/20\n",
      "75/75 [==============================] - 27s 356ms/step - loss: 1.3907 - accuracy: 0.6039 - val_loss: 1.8755 - val_accuracy: 0.5259\n",
      "75/75 [==============================] - 2s 30ms/step - loss: 1.8755 - accuracy: 0.5259\n",
      "150/150 [==============================] - 4s 30ms/step - loss: 1.3428 - accuracy: 0.6072\n",
      "Epoch 1/20\n",
      "75/75 [==============================] - 27s 356ms/step - loss: 1.6877 - accuracy: 0.5610 - val_loss: 1.9082 - val_accuracy: 0.4543\n",
      "Epoch 2/20\n",
      "75/75 [==============================] - 27s 355ms/step - loss: 1.4675 - accuracy: 0.5760 - val_loss: 2.1823 - val_accuracy: 0.4977\n",
      "Epoch 3/20\n",
      "75/75 [==============================] - 27s 354ms/step - loss: 1.4459 - accuracy: 0.5812 - val_loss: 2.3681 - val_accuracy: 0.4927\n",
      "Epoch 4/20\n",
      "75/75 [==============================] - 27s 355ms/step - loss: 1.4222 - accuracy: 0.5885 - val_loss: 2.2988 - val_accuracy: 0.4589\n",
      "Epoch 5/20\n",
      "75/75 [==============================] - 27s 355ms/step - loss: 1.4100 - accuracy: 0.5906 - val_loss: 2.4742 - val_accuracy: 0.4397\n",
      "Epoch 6/20\n",
      "75/75 [==============================] - 27s 355ms/step - loss: 1.4052 - accuracy: 0.5927 - val_loss: 2.3593 - val_accuracy: 0.4209\n",
      "Epoch 7/20\n",
      "75/75 [==============================] - 27s 357ms/step - loss: 1.3862 - accuracy: 0.5956 - val_loss: 2.5080 - val_accuracy: 0.4631\n",
      "Epoch 8/20\n",
      "75/75 [==============================] - 27s 356ms/step - loss: 1.3934 - accuracy: 0.5910 - val_loss: 2.4899 - val_accuracy: 0.3976\n",
      "Epoch 9/20\n",
      "75/75 [==============================] - 27s 356ms/step - loss: 1.3726 - accuracy: 0.5985 - val_loss: 2.4417 - val_accuracy: 0.4088\n",
      "Epoch 10/20\n",
      "75/75 [==============================] - 27s 355ms/step - loss: 1.3678 - accuracy: 0.6006 - val_loss: 2.7568 - val_accuracy: 0.3842\n",
      "Epoch 11/20\n",
      "75/75 [==============================] - 27s 355ms/step - loss: 1.3568 - accuracy: 0.6046 - val_loss: 2.7513 - val_accuracy: 0.3926\n",
      "Epoch 12/20\n",
      "75/75 [==============================] - 27s 355ms/step - loss: 1.3450 - accuracy: 0.6071 - val_loss: 2.5455 - val_accuracy: 0.3609\n",
      "Epoch 13/20\n",
      "75/75 [==============================] - 27s 355ms/step - loss: 1.3304 - accuracy: 0.6079 - val_loss: 2.9903 - val_accuracy: 0.3642\n",
      "Epoch 14/20\n",
      "75/75 [==============================] - 27s 355ms/step - loss: 1.3385 - accuracy: 0.6050 - val_loss: 3.3323 - val_accuracy: 0.3509\n",
      "Epoch 15/20\n",
      "75/75 [==============================] - 27s 355ms/step - loss: 1.3318 - accuracy: 0.6069 - val_loss: 2.8572 - val_accuracy: 0.3479\n",
      "Epoch 16/20\n",
      "75/75 [==============================] - 27s 356ms/step - loss: 1.3125 - accuracy: 0.6100 - val_loss: 2.8554 - val_accuracy: 0.3463\n",
      "Epoch 17/20\n",
      "75/75 [==============================] - 27s 356ms/step - loss: 1.2968 - accuracy: 0.6152 - val_loss: 3.3822 - val_accuracy: 0.3458\n",
      "Epoch 18/20\n",
      "75/75 [==============================] - 27s 357ms/step - loss: 1.2869 - accuracy: 0.6200 - val_loss: 2.7665 - val_accuracy: 0.3559\n",
      "Epoch 19/20\n",
      "75/75 [==============================] - 27s 355ms/step - loss: 1.2763 - accuracy: 0.6213 - val_loss: 3.2888 - val_accuracy: 0.3521\n",
      "Epoch 20/20\n",
      "75/75 [==============================] - 27s 356ms/step - loss: 1.2672 - accuracy: 0.6265 - val_loss: 3.1789 - val_accuracy: 0.3433\n",
      "75/75 [==============================] - 2s 30ms/step - loss: 3.1789 - accuracy: 0.3433\n",
      "150/150 [==============================] - 4s 30ms/step - loss: 1.2337 - accuracy: 0.6375\n",
      "Epoch 1/20\n",
      "75/75 [==============================] - 63s 850ms/step - loss: 1.4779 - accuracy: 0.5844 - val_loss: 1.3219 - val_accuracy: 0.5903\n",
      "Epoch 2/20\n",
      "75/75 [==============================] - 148s 2s/step - loss: 1.3632 - accuracy: 0.6015 - val_loss: 1.3444 - val_accuracy: 0.5849\n",
      "Epoch 3/20\n",
      "75/75 [==============================] - 90s 1s/step - loss: 1.3436 - accuracy: 0.6125 - val_loss: 1.3470 - val_accuracy: 0.5882\n",
      "Epoch 4/20\n",
      "75/75 [==============================] - 72s 974ms/step - loss: 1.3211 - accuracy: 0.6167 - val_loss: 1.3748 - val_accuracy: 0.5820\n",
      "Epoch 5/20\n",
      "75/75 [==============================] - 27s 356ms/step - loss: 1.3203 - accuracy: 0.6161 - val_loss: 1.3370 - val_accuracy: 0.5836\n",
      "Epoch 6/20\n",
      "75/75 [==============================] - 26s 353ms/step - loss: 1.3124 - accuracy: 0.6190 - val_loss: 1.4133 - val_accuracy: 0.5561\n",
      "Epoch 7/20\n",
      "75/75 [==============================] - 27s 355ms/step - loss: 1.3070 - accuracy: 0.6240 - val_loss: 1.3767 - val_accuracy: 0.5803\n",
      "Epoch 8/20\n",
      "75/75 [==============================] - 27s 355ms/step - loss: 1.2868 - accuracy: 0.6252 - val_loss: 1.3545 - val_accuracy: 0.5832\n",
      "Epoch 9/20\n",
      "75/75 [==============================] - 27s 356ms/step - loss: 1.2866 - accuracy: 0.6234 - val_loss: 1.3831 - val_accuracy: 0.5770\n",
      "Epoch 10/20\n",
      "75/75 [==============================] - 27s 355ms/step - loss: 1.2670 - accuracy: 0.6298 - val_loss: 1.3749 - val_accuracy: 0.5782\n",
      "Epoch 11/20\n",
      "75/75 [==============================] - 27s 357ms/step - loss: 1.2643 - accuracy: 0.6350 - val_loss: 1.4098 - val_accuracy: 0.5678\n",
      "Epoch 12/20\n",
      "75/75 [==============================] - 27s 356ms/step - loss: 1.2762 - accuracy: 0.6325 - val_loss: 1.3723 - val_accuracy: 0.5807\n",
      "Epoch 13/20\n",
      "75/75 [==============================] - 27s 356ms/step - loss: 1.2539 - accuracy: 0.6403 - val_loss: 1.3439 - val_accuracy: 0.5937\n",
      "Epoch 14/20\n",
      "75/75 [==============================] - 27s 356ms/step - loss: 1.2333 - accuracy: 0.6428 - val_loss: 1.3698 - val_accuracy: 0.5878\n",
      "Epoch 15/20\n",
      "75/75 [==============================] - 27s 356ms/step - loss: 1.2247 - accuracy: 0.6467 - val_loss: 1.4393 - val_accuracy: 0.5607\n",
      "Epoch 16/20\n",
      "75/75 [==============================] - 27s 356ms/step - loss: 1.2307 - accuracy: 0.6409 - val_loss: 1.3593 - val_accuracy: 0.5811\n",
      "Epoch 17/20\n",
      "75/75 [==============================] - 27s 358ms/step - loss: 1.2057 - accuracy: 0.6488 - val_loss: 1.3699 - val_accuracy: 0.5870\n",
      "Epoch 18/20\n",
      "75/75 [==============================] - 27s 356ms/step - loss: 1.1994 - accuracy: 0.6505 - val_loss: 1.3944 - val_accuracy: 0.5832\n",
      "Epoch 19/20\n",
      "75/75 [==============================] - 27s 355ms/step - loss: 1.1857 - accuracy: 0.6553 - val_loss: 1.3207 - val_accuracy: 0.5924\n",
      "Epoch 20/20\n",
      "75/75 [==============================] - 27s 357ms/step - loss: 1.1789 - accuracy: 0.6603 - val_loss: 1.3638 - val_accuracy: 0.5912\n",
      "75/75 [==============================] - 2s 30ms/step - loss: 1.3638 - accuracy: 0.5912\n",
      "150/150 [==============================] - 5s 30ms/step - loss: 1.1375 - accuracy: 0.6651\n"
     ]
    }
   ],
   "source": [
    "# Do K-fold cross validation\n",
    "kf = KFold(n_splits=3, shuffle=False)\n",
    "train_fold_accuracies = []\n",
    "test_fold_accuracies = []\n",
    "for train_index, test_index in kf.split(X):\n",
    "    X_train, X_test = X[train_index], X[test_index]\n",
    "    y_train, y_test = y[train_index], y[test_index]\n",
    "    model.fit(X_train, y_train, epochs=20, batch_size=64, validation_data=(X_test, y_test))\n",
    "    accuracy = model.evaluate(X_test, y_test)\n",
    "    if all(accuracy[0] > acc for acc in test_fold_accuracies):\n",
    "        best_model = model\n",
    "    test_fold_accuracies.append(accuracy[1])\n",
    "    train_fold_accuracies.append(model.evaluate(X_train, y_train)[1])"
   ]
  },
  {
   "cell_type": "code",
   "execution_count": 6,
   "metadata": {},
   "outputs": [
    {
     "data": {
      "image/png": "[encoded data removed]",
      "text/plain": [
       "<Figure size 432x288 with 1 Axes>"
      ]
     },
     "metadata": {
      "needs_background": "light"
     },
     "output_type": "display_data"
    }
   ],
   "source": [
    "plt.plot(train_fold_accuracies)\n",
    "plt.plot(test_fold_accuracies)\n",
    "plt.xticks(range(1,6))\n",
    "plt.title('KFold accuracies')\n",
    "plt.xlabel('Fold')\n",
    "plt.ylabel('Accuracy')\n",
    "plt.show()"
   ]
  },
  {
   "cell_type": "code",
   "execution_count": 7,
   "metadata": {},
   "outputs": [],
   "source": [
    "# save model to /models/\n",
    "best_model.save(os.getcwd() + '/models/best_model.h5')"
   ]
  }
 ],
 "metadata": {
  "interpreter": {
   "hash": "08eac26dc1f80337b7d87e94e7159a5bad95c2e85f47efef91c61359b3afbfe9"
  },
  "kernelspec": {
   "display_name": "Python 3.9.6 64-bit ('ml': conda)",
   "language": "python",
   "name": "python3"
  },
  "language_info": {
   "codemirror_mode": {
    "name": "ipython",
    "version": 3
   },
   "file_extension": ".py",
   "mimetype": "text/x-python",
   "name": "python",
   "nbconvert_exporter": "python",
   "pygments_lexer": "ipython3",
   "version": "3.9.6"
  },
  "orig_nbformat": 4
 },
 "nbformat": 4,
 "nbformat_minor": 2
}
