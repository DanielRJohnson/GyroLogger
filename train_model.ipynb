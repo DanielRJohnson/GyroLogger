{
 "cells": [
  {
   "cell_type": "code",
   "execution_count": 1,
   "metadata": {},
   "outputs": [
    {
     "name": "stdout",
     "output_type": "stream",
     "text": [
      "Init Plugin\n",
      "Init Graph Optimizer\n",
      "Init Kernel\n"
     ]
    }
   ],
   "source": [
    "import numpy as np\n",
    "from sklearn.model_selection import KFold\n",
    "from sklearn.preprocessing import LabelEncoder\n",
    "import matplotlib.pyplot as plt\n",
    "import os\n",
    "import tensorflow as tf\n",
    "from tensorflow.keras.layers import InputLayer, Dense, LSTM"
   ]
  },
  {
   "cell_type": "code",
   "execution_count": 2,
   "metadata": {},
   "outputs": [
    {
     "name": "stderr",
     "output_type": "stream",
     "text": [
      "/opt/homebrew/Caskroom/miniforge/base/envs/ml/lib/python3.9/site-packages/sklearn/utils/validation.py:63: DataConversionWarning: A column-vector y was passed when a 1d array was expected. Please change the shape of y to (n_samples, ), for example using ravel().\n",
      "  return f(*args, **kwargs)\n"
     ]
    }
   ],
   "source": [
    "# import all from /processed data/\n",
    "X = np.load(os.getcwd() + '/processed_data/proc_X.npy', allow_pickle=True)\n",
    "y = np.load(os.getcwd() + '/processed_data/proc_y.npy', allow_pickle=True)\n",
    "y = LabelEncoder().fit_transform(y)"
   ]
  },
  {
   "cell_type": "code",
   "execution_count": 3,
   "metadata": {},
   "outputs": [],
   "source": [
    "def create_rnn_model():\n",
    "    rnn_model = tf.keras.Sequential()\n",
    "    rnn_model.add(InputLayer(input_shape=(X.shape[1], X.shape[2])))\n",
    "    rnn_model.add(LSTM(units=64, activation='relu'))\n",
    "    rnn_model.add(Dense(units=32, activation='relu'))\n",
    "    #rnn_model.add(LSTM(units=32, activation='relu', dropout=0.25))\n",
    "    rnn_model.add(Dense(len(np.unique(y)), activation='softmax'))\n",
    "    rnn_model.compile(optimizer='adam', loss='sparse_categorical_crossentropy', metrics=['accuracy'])\n",
    "    return rnn_model"
   ]
  },
  {
   "cell_type": "code",
   "execution_count": 4,
   "metadata": {},
   "outputs": [
    {
     "name": "stdout",
     "output_type": "stream",
     "text": [
      "Metal device set to: Apple M1\n",
      "\n",
      "systemMemory: 8.00 GB\n",
      "maxCacheSize: 2.67 GB\n",
      "\n",
      "WARNING:tensorflow:Layer lstm will not use cuDNN kernels since it doesn't meet the criteria. It will use a generic GPU kernel as fallback when running on GPU.\n"
     ]
    },
    {
     "name": "stderr",
     "output_type": "stream",
     "text": [
      "2021-11-21 14:57:54.437505: I tensorflow/core/common_runtime/pluggable_device/pluggable_device_factory.cc:305] Could not identify NUMA node of platform GPU ID 0, defaulting to 0. Your kernel may not have been built with NUMA support.\n",
      "2021-11-21 14:57:54.437671: I tensorflow/core/common_runtime/pluggable_device/pluggable_device_factory.cc:271] Created TensorFlow device (/job:localhost/replica:0/task:0/device:GPU:0 with 0 MB memory) -> physical PluggableDevice (device: 0, name: METAL, pci bus id: <undefined>)\n"
     ]
    }
   ],
   "source": [
    "model = create_rnn_model()\n",
    "best_model = None"
   ]
  },
  {
   "cell_type": "code",
   "execution_count": 5,
   "metadata": {},
   "outputs": [
    {
     "name": "stderr",
     "output_type": "stream",
     "text": [
      "2021-11-21 14:57:55.032758: I tensorflow/compiler/mlir/mlir_graph_optimization_pass.cc:176] None of the MLIR Optimization Passes are enabled (registered 2)\n",
      "2021-11-21 14:57:55.034952: W tensorflow/core/platform/profile_utils/cpu_utils.cc:128] Failed to get CPU frequency: 0 Hz\n"
     ]
    },
    {
     "name": "stdout",
     "output_type": "stream",
     "text": [
      "Epoch 1/10\n"
     ]
    },
    {
     "name": "stderr",
     "output_type": "stream",
     "text": [
      "2021-11-21 14:57:55.280130: I tensorflow/core/grappler/optimizers/custom_graph_optimizer_registry.cc:112] Plugin optimizer for device_type GPU is enabled.\n"
     ]
    },
    {
     "name": "stdout",
     "output_type": "stream",
     "text": [
      "42/42 [==============================] - ETA: 0s - loss: 3.2578 - accuracy: 0.0919"
     ]
    },
    {
     "name": "stderr",
     "output_type": "stream",
     "text": [
      "2021-11-21 14:58:09.090559: I tensorflow/core/grappler/optimizers/custom_graph_optimizer_registry.cc:112] Plugin optimizer for device_type GPU is enabled.\n"
     ]
    },
    {
     "name": "stdout",
     "output_type": "stream",
     "text": [
      "42/42 [==============================] - 14s 327ms/step - loss: 3.2578 - accuracy: 0.0919 - val_loss: 3.3251 - val_accuracy: 0.1182\n",
      "Epoch 2/10\n",
      "42/42 [==============================] - 13s 314ms/step - loss: 3.0730 - accuracy: 0.1581 - val_loss: 3.3805 - val_accuracy: 0.1182\n",
      "Epoch 3/10\n",
      "42/42 [==============================] - 13s 315ms/step - loss: 3.0063 - accuracy: 0.1603 - val_loss: 3.3745 - val_accuracy: 0.1182\n",
      "Epoch 4/10\n",
      "42/42 [==============================] - 13s 315ms/step - loss: 2.9646 - accuracy: 0.1641 - val_loss: 3.3241 - val_accuracy: 0.1242\n",
      "Epoch 5/10\n",
      "42/42 [==============================] - 13s 314ms/step - loss: 2.9324 - accuracy: 0.1755 - val_loss: 3.4806 - val_accuracy: 0.1152\n",
      "Epoch 6/10\n",
      "42/42 [==============================] - 13s 318ms/step - loss: 2.9133 - accuracy: 0.1816 - val_loss: 3.3021 - val_accuracy: 0.1242\n",
      "Epoch 7/10\n",
      "42/42 [==============================] - 13s 316ms/step - loss: 2.9048 - accuracy: 0.1771 - val_loss: 3.3295 - val_accuracy: 0.1091\n",
      "Epoch 8/10\n",
      "42/42 [==============================] - 14s 332ms/step - loss: 2.8718 - accuracy: 0.1862 - val_loss: 3.5649 - val_accuracy: 0.1061\n",
      "Epoch 9/10\n",
      "42/42 [==============================] - 14s 333ms/step - loss: 2.8558 - accuracy: 0.1892 - val_loss: 3.5738 - val_accuracy: 0.1091\n",
      "Epoch 10/10\n",
      "42/42 [==============================] - 14s 339ms/step - loss: 2.8337 - accuracy: 0.2014 - val_loss: 3.7572 - val_accuracy: 0.1061\n",
      "11/11 [==============================] - 0s 33ms/step - loss: 3.7572 - accuracy: 0.1061\n",
      "Epoch 1/10\n",
      "42/42 [==============================] - 14s 331ms/step - loss: 2.9485 - accuracy: 0.1724 - val_loss: 2.8836 - val_accuracy: 0.1702\n",
      "Epoch 2/10\n",
      "42/42 [==============================] - 14s 342ms/step - loss: 2.9958 - accuracy: 0.1739 - val_loss: 2.9212 - val_accuracy: 0.1702\n",
      "Epoch 3/10\n",
      "42/42 [==============================] - 14s 325ms/step - loss: 2.9328 - accuracy: 0.1807 - val_loss: 2.9198 - val_accuracy: 0.1550\n",
      "Epoch 4/10\n",
      "42/42 [==============================] - 13s 319ms/step - loss: 2.8846 - accuracy: 0.1830 - val_loss: 2.9378 - val_accuracy: 0.1459\n",
      "Epoch 5/10\n",
      "42/42 [==============================] - 13s 314ms/step - loss: 2.8687 - accuracy: 0.1853 - val_loss: 2.9112 - val_accuracy: 0.1459\n",
      "Epoch 6/10\n",
      "42/42 [==============================] - 14s 324ms/step - loss: 2.8569 - accuracy: 0.1792 - val_loss: 2.9396 - val_accuracy: 0.1581\n",
      "Epoch 7/10\n",
      "42/42 [==============================] - 13s 318ms/step - loss: 2.8410 - accuracy: 0.1883 - val_loss: 2.9961 - val_accuracy: 0.1337\n",
      "Epoch 8/10\n",
      "42/42 [==============================] - 13s 320ms/step - loss: 2.8323 - accuracy: 0.1898 - val_loss: 2.9597 - val_accuracy: 0.1307\n",
      "Epoch 9/10\n",
      "42/42 [==============================] - 13s 315ms/step - loss: 2.8217 - accuracy: 0.1967 - val_loss: 2.9914 - val_accuracy: 0.1489\n",
      "Epoch 10/10\n",
      "42/42 [==============================] - 13s 313ms/step - loss: 2.8065 - accuracy: 0.1959 - val_loss: 3.1272 - val_accuracy: 0.1185\n",
      "11/11 [==============================] - 0s 27ms/step - loss: 3.1272 - accuracy: 0.1185\n",
      "Epoch 1/10\n",
      "42/42 [==============================] - 13s 313ms/step - loss: 2.8664 - accuracy: 0.1754 - val_loss: 2.6993 - val_accuracy: 0.2432\n",
      "Epoch 2/10\n",
      "42/42 [==============================] - 13s 320ms/step - loss: 2.8311 - accuracy: 0.1815 - val_loss: 2.7728 - val_accuracy: 0.2340\n",
      "Epoch 3/10\n",
      "42/42 [==============================] - 14s 322ms/step - loss: 2.8025 - accuracy: 0.1951 - val_loss: 2.7346 - val_accuracy: 0.2340\n",
      "Epoch 4/10\n",
      "42/42 [==============================] - 14s 324ms/step - loss: 2.7880 - accuracy: 0.1875 - val_loss: 2.7674 - val_accuracy: 0.2371\n",
      "Epoch 5/10\n",
      "42/42 [==============================] - 14s 326ms/step - loss: 2.7840 - accuracy: 0.1982 - val_loss: 2.8306 - val_accuracy: 0.2249\n",
      "Epoch 6/10\n",
      "42/42 [==============================] - 13s 316ms/step - loss: 2.7641 - accuracy: 0.2020 - val_loss: 2.8203 - val_accuracy: 0.2188\n",
      "Epoch 7/10\n",
      "42/42 [==============================] - 14s 327ms/step - loss: 2.7348 - accuracy: 0.2073 - val_loss: 2.8407 - val_accuracy: 0.2219\n",
      "Epoch 8/10\n",
      "42/42 [==============================] - 14s 332ms/step - loss: 2.7250 - accuracy: 0.2156 - val_loss: 2.8241 - val_accuracy: 0.2249\n",
      "Epoch 9/10\n",
      "42/42 [==============================] - 14s 323ms/step - loss: 2.7143 - accuracy: 0.2194 - val_loss: 2.8895 - val_accuracy: 0.2158\n",
      "Epoch 10/10\n",
      "42/42 [==============================] - 13s 319ms/step - loss: 2.7000 - accuracy: 0.2164 - val_loss: 2.9658 - val_accuracy: 0.2067\n",
      "11/11 [==============================] - 0s 31ms/step - loss: 2.9658 - accuracy: 0.2067\n",
      "Epoch 1/10\n",
      "42/42 [==============================] - 13s 318ms/step - loss: 2.7383 - accuracy: 0.2210 - val_loss: 2.6145 - val_accuracy: 0.2462\n",
      "Epoch 2/10\n",
      "42/42 [==============================] - 13s 321ms/step - loss: 2.6986 - accuracy: 0.2285 - val_loss: 2.6094 - val_accuracy: 0.2401\n",
      "Epoch 3/10\n",
      "42/42 [==============================] - 14s 328ms/step - loss: 2.6680 - accuracy: 0.2339 - val_loss: 2.6895 - val_accuracy: 0.2280\n",
      "Epoch 4/10\n",
      "42/42 [==============================] - 14s 325ms/step - loss: 2.6578 - accuracy: 0.2263 - val_loss: 2.6802 - val_accuracy: 0.2128\n",
      "Epoch 5/10\n",
      "42/42 [==============================] - 14s 325ms/step - loss: 2.6313 - accuracy: 0.2422 - val_loss: 2.7987 - val_accuracy: 0.2188\n",
      "Epoch 6/10\n",
      "42/42 [==============================] - 14s 321ms/step - loss: 2.6120 - accuracy: 0.2544 - val_loss: 2.7568 - val_accuracy: 0.2128\n",
      "Epoch 7/10\n",
      "42/42 [==============================] - 14s 323ms/step - loss: 2.6839 - accuracy: 0.2422 - val_loss: 2.8689 - val_accuracy: 0.2097\n",
      "Epoch 8/10\n",
      "42/42 [==============================] - 13s 317ms/step - loss: 2.6700 - accuracy: 0.2392 - val_loss: 2.8407 - val_accuracy: 0.1945\n",
      "Epoch 9/10\n",
      "42/42 [==============================] - 14s 322ms/step - loss: 2.6205 - accuracy: 0.2566 - val_loss: 2.9405 - val_accuracy: 0.1945\n",
      "Epoch 10/10\n",
      "42/42 [==============================] - 14s 324ms/step - loss: 2.5815 - accuracy: 0.2506 - val_loss: 2.9098 - val_accuracy: 0.1976\n",
      "11/11 [==============================] - 0s 27ms/step - loss: 2.9098 - accuracy: 0.1976\n",
      "Epoch 1/10\n",
      "42/42 [==============================] - 14s 329ms/step - loss: 2.6413 - accuracy: 0.2536 - val_loss: 2.5736 - val_accuracy: 0.2492\n",
      "Epoch 2/10\n",
      "42/42 [==============================] - 13s 321ms/step - loss: 2.5888 - accuracy: 0.2627 - val_loss: 2.5607 - val_accuracy: 0.2614\n",
      "Epoch 3/10\n",
      "42/42 [==============================] - 14s 323ms/step - loss: 2.5626 - accuracy: 0.2635 - val_loss: 2.5893 - val_accuracy: 0.2401\n",
      "Epoch 4/10\n",
      "42/42 [==============================] - 14s 341ms/step - loss: 2.5493 - accuracy: 0.2635 - val_loss: 2.6022 - val_accuracy: 0.2462\n",
      "Epoch 5/10\n",
      "42/42 [==============================] - 14s 334ms/step - loss: 2.5457 - accuracy: 0.2612 - val_loss: 2.6477 - val_accuracy: 0.2401\n",
      "Epoch 6/10\n",
      "42/42 [==============================] - 14s 328ms/step - loss: 2.5108 - accuracy: 0.2764 - val_loss: 2.6256 - val_accuracy: 0.2371\n",
      "Epoch 7/10\n",
      "42/42 [==============================] - 13s 316ms/step - loss: 2.4949 - accuracy: 0.2764 - val_loss: 2.6289 - val_accuracy: 0.2523\n",
      "Epoch 8/10\n",
      "42/42 [==============================] - 13s 315ms/step - loss: 2.4738 - accuracy: 0.2802 - val_loss: 2.7945 - val_accuracy: 0.2219\n",
      "Epoch 9/10\n",
      "42/42 [==============================] - 13s 314ms/step - loss: 2.4631 - accuracy: 0.2809 - val_loss: 2.7174 - val_accuracy: 0.2219\n",
      "Epoch 10/10\n",
      "42/42 [==============================] - 14s 328ms/step - loss: 2.4526 - accuracy: 0.2999 - val_loss: 2.7782 - val_accuracy: 0.2188\n",
      "11/11 [==============================] - 0s 28ms/step - loss: 2.7782 - accuracy: 0.2188\n"
     ]
    }
   ],
   "source": [
    "# Do K-fold cross validation\n",
    "kf = KFold(n_splits=5, shuffle=False)\n",
    "fold_accuracies = []\n",
    "for train_index, test_index in kf.split(X):\n",
    "    X_train, X_test = X[train_index], X[test_index]\n",
    "    y_train, y_test = y[train_index], y[test_index]\n",
    "    model.fit(X_train, y_train, epochs=10, batch_size=32, validation_data=(X_test, y_test))\n",
    "    accuracy = model.evaluate(X_test, y_test)\n",
    "    if all(accuracy[0] > acc for acc in fold_accuracies):\n",
    "        best_model = model\n",
    "    fold_accuracies.append(accuracy[1])"
   ]
  },
  {
   "cell_type": "code",
   "execution_count": 9,
   "metadata": {},
   "outputs": [
    {
     "data": {
      "image/png": "[encoded data removed]",
      "text/plain": [
       "<Figure size 432x288 with 1 Axes>"
      ]
     },
     "metadata": {
      "needs_background": "light"
     },
     "output_type": "display_data"
    }
   ],
   "source": [
    "plt.plot(range(1,6), fold_accuracies)\n",
    "plt.xticks(range(1,6))\n",
    "plt.title('KFold accuracies')\n",
    "plt.xlabel('Fold')\n",
    "plt.ylabel('Accuracy')\n",
    "plt.show()"
   ]
  },
  {
   "cell_type": "code",
   "execution_count": 7,
   "metadata": {},
   "outputs": [],
   "source": [
    "# save model to /models/\n",
    "best_model.save(os.getcwd() + '/models/best_model.h5')"
   ]
  }
 ],
 "metadata": {
  "interpreter": {
   "hash": "08eac26dc1f80337b7d87e94e7159a5bad95c2e85f47efef91c61359b3afbfe9"
  },
  "kernelspec": {
   "display_name": "Python 3.9.6 64-bit ('ml': conda)",
   "language": "python",
   "name": "python3"
  },
  "language_info": {
   "codemirror_mode": {
    "name": "ipython",
    "version": 3
   },
   "file_extension": ".py",
   "mimetype": "text/x-python",
   "name": "python",
   "nbconvert_exporter": "python",
   "pygments_lexer": "ipython3",
   "version": "3.9.6"
  },
  "orig_nbformat": 4
 },
 "nbformat": 4,
 "nbformat_minor": 2
}
